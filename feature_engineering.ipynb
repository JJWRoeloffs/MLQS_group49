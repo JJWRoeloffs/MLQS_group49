{
 "cells": [
  {
   "cell_type": "code",
   "execution_count": 1,
   "id": "ad2c17cd-f432-4369-a1c7-f3188b296fbd",
   "metadata": {
    "tags": []
   },
   "outputs": [],
   "source": [
    "import pandas as pd\n",
    "\n",
    "df = pd.read_csv('processed_data/with_ranges_features.csv')\n",
    "df['Time'] = pd.to_datetime(df['Time'], utc=True, format='ISO8601')\n",
    "pd.set_option('display.max_rows', 500)"
   ]
  },
  {
   "cell_type": "code",
   "execution_count": 2,
   "id": "3f0f48b3-03db-4dc2-b302-c8ed8b5245ea",
   "metadata": {},
   "outputs": [
    {
     "name": "stdout",
     "output_type": "stream",
     "text": [
      "[ 4  6  7  8  5  9  3  2 10  1]\n"
     ]
    }
   ],
   "source": [
    "print(df['HeartRateClass'].unique())"
   ]
  },
  {
   "cell_type": "code",
   "execution_count": 3,
   "id": "bac1938d-007d-46ee-930d-10638dc2e576",
   "metadata": {
    "tags": []
   },
   "outputs": [
    {
     "name": "stderr",
     "output_type": "stream",
     "text": [
      "C:\\Users\\sando\\AppData\\Local\\Temp\\ipykernel_3792\\2103475818.py:53: DeprecationWarning: DataFrameGroupBy.apply operated on the grouping columns. This behavior is deprecated, and in a future version of pandas the grouping columns will be excluded from the operation. Either pass `include_groups=False` to exclude the groupings or explicitly select the grouping columns after groupby to silence this warning.\n",
      "  df_statistics = df.groupby('RunID').apply(calculate_statistics).reset_index()\n"
     ]
    }
   ],
   "source": [
    "def calculate_statistics(group):\n",
    "    statistics = {}\n",
    "    start_time =  group['Time'].min()\n",
    "\n",
    "    # Define here interval of statistics in seconds\n",
    "    interval = 60\n",
    "    \n",
    "    # Iterate over each minute in the first 5 minutes\n",
    "    for i in range(interval, 301,interval):\n",
    "        end_time = start_time + pd.Timedelta(seconds=i)\n",
    "        \n",
    "        # Filter the data for the current minute\n",
    "        current_period_data = group[(group['Time'] >= start_time) & (group['Time'] < end_time)]\n",
    "        \n",
    "        # Calculate statistics for heart rate, elevation, speed and cadence for the current minute\n",
    "        statistics[f'HeartRate_mean_second_{i}'] = current_period_data['HeartRate'].mean()\n",
    "        statistics[f'Elevation_mean_second_{i}'] = current_period_data['Elevation'].mean()\n",
    "        statistics[f'Cadence_mean_second_{i}'] = current_period_data['Cadence'].mean()\n",
    "        statistics[f'Speed_mean_second_{i}'] = current_period_data['Speed'].mean()\n",
    "        statistics[f'HeartRateRange_mean_second_{i}'] = current_period_data['HeartRateRange'].mean()\n",
    "        statistics[f'HeartRateQuotient_mean_second_{i}'] = current_period_data['HeartRateQuotient'].mean()\n",
    "        statistics[f'SpeedRange_mean_second_{i}'] = current_period_data['SpeedRange'].mean()\n",
    "        statistics[f'SpeedQuotient_mean_second_{i}'] = current_period_data['SpeedQuotient'].mean()\n",
    "\n",
    "        # Additional statistical features\n",
    "        statistics[f'HeartRate_std_second_{i}'] = current_period_data['HeartRate'].std()\n",
    "        statistics[f'Elevation_std_second_{i}'] = current_period_data['Elevation'].std()\n",
    "        statistics[f'Cadence_std_second_{i}'] = current_period_data['Cadence'].std()\n",
    "        statistics[f'Speed_std_second_{i}'] = current_period_data['Speed'].std()\n",
    "        \n",
    "        statistics[f'HeartRate_min_second_{i}'] = current_period_data['HeartRate'].min()\n",
    "        statistics[f'Elevation_min_second_{i}'] = current_period_data['Elevation'].min()\n",
    "        statistics[f'Cadence_min_second_{i}'] = current_period_data['Cadence'].min()\n",
    "        statistics[f'Speed_min_second_{i}'] = current_period_data['Speed'].min()\n",
    "        \n",
    "        statistics[f'HeartRate_max_second_{i}'] = current_period_data['HeartRate'].max()\n",
    "        statistics[f'Elevation_max_second_{i}'] = current_period_data['Elevation'].max()\n",
    "        statistics[f'Cadence_max_second_{i}'] = current_period_data['Cadence'].max()\n",
    "        statistics[f'Speed_max_second_{i}'] = current_period_data['Speed'].max()\n",
    "        \n",
    "        start_time = end_time\n",
    "\n",
    "    last_30_seconds_data = group[group['Time'] >= group['Time'].max() - pd.Timedelta(seconds=30)]\n",
    "    most_occuring_label = last_30_seconds_data['HeartRateClass'].mode().iloc[0]\n",
    "    statistics['Label'] = most_occuring_label\n",
    "    statistics['Distance'] = last_30_seconds_data['Distance'].max()\n",
    "    \n",
    "    \n",
    "    return pd.Series(statistics)\n",
    "\n",
    "\n",
    "\n",
    "df_statistics = df.groupby('RunID').apply(calculate_statistics).reset_index()\n",
    "df_statistics.dropna(inplace=True)"
   ]
  },
  {
   "cell_type": "code",
   "execution_count": 4,
   "id": "f93d7357-5e19-4cb4-b870-556ececcc18a",
   "metadata": {},
   "outputs": [
    {
     "name": "stdout",
     "output_type": "stream",
     "text": [
      "[6. 7. 8. 9. 5. 4. 3.]\n"
     ]
    }
   ],
   "source": [
    "print(df_statistics['Label'].unique())"
   ]
  },
  {
   "cell_type": "code",
   "execution_count": 7,
   "id": "d6166b41-64b1-4866-82d8-733c1183ac1f",
   "metadata": {},
   "outputs": [
    {
     "data": {
      "text/plain": [
       "(410, 103)"
      ]
     },
     "execution_count": 7,
     "metadata": {},
     "output_type": "execute_result"
    }
   ],
   "source": [
    "df_statistics.shape"
   ]
  },
  {
   "cell_type": "code",
   "execution_count": 6,
   "id": "3fbee237-b629-42db-84fc-bb0717f3de5f",
   "metadata": {},
   "outputs": [],
   "source": [
    "#display(df_statistics)\n",
    "df_statistics.to_csv(\"processed_data/train_data_1min.csv\", index=False)"
   ]
  },
  {
   "cell_type": "code",
   "execution_count": null,
   "id": "e62cf120-e074-4350-9c80-96a40d4b7990",
   "metadata": {},
   "outputs": [],
   "source": []
  }
 ],
 "metadata": {
  "kernelspec": {
   "display_name": "Python 3 (ipykernel)",
   "language": "python",
   "name": "python3"
  },
  "language_info": {
   "codemirror_mode": {
    "name": "ipython",
    "version": 3
   },
   "file_extension": ".py",
   "mimetype": "text/x-python",
   "name": "python",
   "nbconvert_exporter": "python",
   "pygments_lexer": "ipython3",
   "version": "3.12.4"
  }
 },
 "nbformat": 4,
 "nbformat_minor": 5
}

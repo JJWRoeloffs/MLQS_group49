{
 "cells": [
  {
   "cell_type": "code",
   "execution_count": 5,
   "id": "ad2c17cd-f432-4369-a1c7-f3188b296fbd",
   "metadata": {
    "tags": []
   },
   "outputs": [],
   "source": [
    "import pandas as pd\n",
    "\n",
    "df = pd.read_csv('processed_data/with_ranges_features.csv')\n",
    "df['Time'] = pd.to_datetime(df['Time'], utc=True)\n",
    "pd.set_option('display.max_rows', 500)"
   ]
  },
  {
   "cell_type": "code",
   "execution_count": 7,
   "id": "3f0f48b3-03db-4dc2-b302-c8ed8b5245ea",
   "metadata": {},
   "outputs": [
    {
     "name": "stdout",
     "output_type": "stream",
     "text": [
      "[ 4  5  6  7  8  9  3  2 10]\n"
     ]
    }
   ],
   "source": [
    "print(df['HeartRateClass'].unique())"
   ]
  },
  {
   "cell_type": "code",
   "execution_count": 9,
   "id": "bac1938d-007d-46ee-930d-10638dc2e576",
   "metadata": {
    "tags": []
   },
   "outputs": [],
   "source": [
    "def calculate_statistics(group):\n",
    "    time_range = pd.Timedelta(minutes=5)\n",
    "    statistics = {}\n",
    "    \n",
    "    # Iterate over each minute in the first 5 minutes\n",
    "    for i in range(1, 6):\n",
    "        start_time = group['Time'].min() + pd.Timedelta(minutes=i - 1)\n",
    "        end_time = group['Time'].min() + pd.Timedelta(minutes=i)\n",
    "        \n",
    "        # Filter the data for the current minute\n",
    "        current_minute_data = group[(group['Time'] >= start_time) & (group['Time'] < end_time)]\n",
    "        \n",
    "        # Calculate statistics for heart rate, elevation, speed and cadence for the current minute\n",
    "        statistics[f'HeartRate_mean_minute_{i}'] = current_minute_data['HeartRate'].mean()\n",
    "        statistics[f'Elevation_mean_minute_{i}'] = current_minute_data['Elevation'].mean()\n",
    "        statistics[f'Cadence_mean_minute_{i}'] = current_minute_data['Cadence'].mean()\n",
    "        statistics[f'Speed_mean_minute_{i}'] = current_minute_data['Speed'].mean()\n",
    "        statistics[f'HeartRateRange_mean_minute_{i}'] = current_minute_data['HeartRateRange'].mean()\n",
    "        statistics[f'HeartRateQuotient_mean_minute_{i}'] = current_minute_data['HeartRateQuotient'].mean()\n",
    "        statistics[f'SpeedRange_mean_minute_{i}'] = current_minute_data['SpeedRange'].mean()\n",
    "        statistics[f'SpeedQuotient_mean_minute_{i}'] = current_minute_data['SpeedQuotient'].mean()\n",
    "\n",
    "    last_30_seconds_data = group[group['Time'] >= group['Time'].max() - pd.Timedelta(seconds=30)]\n",
    "    most_occuring_label = last_30_seconds_data['HeartRateClass'].mode().iloc[0]\n",
    "    statistics['Label'] = most_occuring_label\n",
    "    \n",
    "    \n",
    "    return pd.Series(statistics)\n",
    "\n",
    "\n",
    "\n",
    "df_statistics = df.groupby('RunID').apply(calculate_statistics).reset_index()\n",
    "df_statistics.dropna(inplace=True)"
   ]
  },
  {
   "cell_type": "code",
   "execution_count": 10,
   "id": "f93d7357-5e19-4cb4-b870-556ececcc18a",
   "metadata": {},
   "outputs": [
    {
     "name": "stdout",
     "output_type": "stream",
     "text": [
      "[6. 7. 9. 8. 5. 4.]\n"
     ]
    }
   ],
   "source": [
    "print(df_statistics['Label'].unique())"
   ]
  },
  {
   "cell_type": "code",
   "execution_count": 11,
   "id": "3fbee237-b629-42db-84fc-bb0717f3de5f",
   "metadata": {},
   "outputs": [],
   "source": [
    "#display(df_statistics)\n",
    "df_statistics.to_csv(\"processed_data/train_data.csv\", index=False)"
   ]
  },
  {
   "cell_type": "code",
   "execution_count": null,
   "id": "06707594",
   "metadata": {},
   "outputs": [],
   "source": []
  }
 ],
 "metadata": {
  "kernelspec": {
   "display_name": "Python 3 (ipykernel)",
   "language": "python",
   "name": "python3"
  },
  "language_info": {
   "codemirror_mode": {
    "name": "ipython",
    "version": 3
   },
   "file_extension": ".py",
   "mimetype": "text/x-python",
   "name": "python",
   "nbconvert_exporter": "python",
   "pygments_lexer": "ipython3",
   "version": "3.9.16"
  }
 },
 "nbformat": 4,
 "nbformat_minor": 5
}

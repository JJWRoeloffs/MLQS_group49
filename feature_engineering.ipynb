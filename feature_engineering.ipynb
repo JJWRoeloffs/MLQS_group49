{
 "cells": [
  {
   "cell_type": "code",
   "execution_count": 1,
   "id": "ad2c17cd-f432-4369-a1c7-f3188b296fbd",
   "metadata": {
    "tags": []
   },
   "outputs": [],
   "source": [
    "import pandas as pd\n",
    "\n",
    "df = pd.read_csv('processed_data/first_pass.csv')"
   ]
  },
  {
   "cell_type": "code",
   "execution_count": 2,
   "id": "96d1e2f3-85e8-4bc4-9fef-3ff37fd3a334",
   "metadata": {},
   "outputs": [],
   "source": [
    "head = 0"
   ]
  },
  {
   "cell_type": "code",
   "execution_count": 3,
   "id": "dce9a1c1-2730-4944-a3c2-e4d5248820e8",
   "metadata": {
    "scrolled": true
   },
   "outputs": [
    {
     "data": {
      "text/html": [
       "<div>\n",
       "<style scoped>\n",
       "    .dataframe tbody tr th:only-of-type {\n",
       "        vertical-align: middle;\n",
       "    }\n",
       "\n",
       "    .dataframe tbody tr th {\n",
       "        vertical-align: top;\n",
       "    }\n",
       "\n",
       "    .dataframe thead th {\n",
       "        text-align: right;\n",
       "    }\n",
       "</style>\n",
       "<table border=\"1\" class=\"dataframe\">\n",
       "  <thead>\n",
       "    <tr style=\"text-align: right;\">\n",
       "      <th></th>\n",
       "      <th>RunID</th>\n",
       "      <th>Time</th>\n",
       "      <th>Latitude</th>\n",
       "      <th>Longitude</th>\n",
       "      <th>Elevation</th>\n",
       "      <th>Distance</th>\n",
       "      <th>HeartRate</th>\n",
       "      <th>Cadence</th>\n",
       "      <th>Speed</th>\n",
       "      <th>Time_diff</th>\n",
       "      <th>Distance_diff</th>\n",
       "    </tr>\n",
       "  </thead>\n",
       "  <tbody>\n",
       "  </tbody>\n",
       "</table>\n",
       "</div>"
      ],
      "text/plain": [
       "Empty DataFrame\n",
       "Columns: [RunID, Time, Latitude, Longitude, Elevation, Distance, HeartRate, Cadence, Speed, Time_diff, Distance_diff]\n",
       "Index: []"
      ]
     },
     "execution_count": 3,
     "metadata": {},
     "output_type": "execute_result"
    }
   ],
   "source": [
    "df['Time'] = pd.to_datetime(df['Time'], utc=True, format='ISO8601')\n",
    "\n",
    "# Sort the dataframe by 'Time' within each 'RunID'\n",
    "df = df.sort_values(by=['RunID', 'Time']).reset_index(drop=True)\n",
    "\n",
    "# Calculate the time difference and distance difference between each row and the previous row within each 'RunID'\n",
    "df['Time_diff'] = df.groupby('RunID')['Time'].diff().dt.total_seconds()\n",
    "df['Distance_diff'] = df.groupby('RunID')['Distance'].diff()\n",
    "\n",
    "# Calculate the speed in m/s\n",
    "df['Speed'] = df['Distance_diff'] / df['Time_diff']\n",
    "\n",
    "# Display the dataframe with calculated speed values\n",
    "df.head(head)"
   ]
  },
  {
   "cell_type": "code",
   "execution_count": 4,
   "id": "bac1938d-007d-46ee-930d-10638dc2e576",
   "metadata": {
    "tags": []
   },
   "outputs": [],
   "source": [
    "def calculate_statistics(group):\n",
    "    time_range = pd.Timedelta(minutes=5)\n",
    "    statistics = {}\n",
    "    \n",
    "    # Iterate over each minute in the first 5 minutes\n",
    "    for i in range(1, 6):\n",
    "        start_time = group['Time'].min() + pd.Timedelta(minutes=i - 1)\n",
    "        end_time = group['Time'].min() + pd.Timedelta(minutes=i)\n",
    "        \n",
    "        # Filter the data for the current minute\n",
    "        current_minute_data = group[(group['Time'] >= start_time) & (group['Time'] < end_time)]\n",
    "        \n",
    "        # Calculate statistics for heart rate, elevation, speed and cadence for the current minute\n",
    "        statistics[f'HeartRate_mean_minute_{i}'] = current_minute_data['HeartRate'].mean()\n",
    "        statistics[f'Elevation_mean_minute_{i}'] = current_minute_data['Elevation'].mean()\n",
    "        statistics[f'Cadence_mean_minute_{i}'] = current_minute_data['Cadence'].mean()\n",
    "        statistics[f'Speed_mean_minute_{i}'] = current_minute_data['Speed'].mean()\n",
    "    \n",
    "    return pd.Series(statistics)\n",
    "\n",
    "\n",
    "\n",
    "df_statistics = df.groupby('RunID').apply(calculate_statistics, include_groups=False).reset_index()"
   ]
  },
  {
   "cell_type": "code",
   "execution_count": 5,
   "id": "3fbee237-b629-42db-84fc-bb0717f3de5f",
   "metadata": {},
   "outputs": [
    {
     "data": {
      "text/html": [
       "<div>\n",
       "<style scoped>\n",
       "    .dataframe tbody tr th:only-of-type {\n",
       "        vertical-align: middle;\n",
       "    }\n",
       "\n",
       "    .dataframe tbody tr th {\n",
       "        vertical-align: top;\n",
       "    }\n",
       "\n",
       "    .dataframe thead th {\n",
       "        text-align: right;\n",
       "    }\n",
       "</style>\n",
       "<table border=\"1\" class=\"dataframe\">\n",
       "  <thead>\n",
       "    <tr style=\"text-align: right;\">\n",
       "      <th></th>\n",
       "      <th>RunID</th>\n",
       "      <th>HeartRate_mean_minute_1</th>\n",
       "      <th>Elevation_mean_minute_1</th>\n",
       "      <th>Cadence_mean_minute_1</th>\n",
       "      <th>Speed_mean_minute_1</th>\n",
       "      <th>HeartRate_mean_minute_2</th>\n",
       "      <th>Elevation_mean_minute_2</th>\n",
       "      <th>Cadence_mean_minute_2</th>\n",
       "      <th>Speed_mean_minute_2</th>\n",
       "      <th>HeartRate_mean_minute_3</th>\n",
       "      <th>...</th>\n",
       "      <th>Cadence_mean_minute_3</th>\n",
       "      <th>Speed_mean_minute_3</th>\n",
       "      <th>HeartRate_mean_minute_4</th>\n",
       "      <th>Elevation_mean_minute_4</th>\n",
       "      <th>Cadence_mean_minute_4</th>\n",
       "      <th>Speed_mean_minute_4</th>\n",
       "      <th>HeartRate_mean_minute_5</th>\n",
       "      <th>Elevation_mean_minute_5</th>\n",
       "      <th>Cadence_mean_minute_5</th>\n",
       "      <th>Speed_mean_minute_5</th>\n",
       "    </tr>\n",
       "  </thead>\n",
       "  <tbody>\n",
       "  </tbody>\n",
       "</table>\n",
       "<p>0 rows × 21 columns</p>\n",
       "</div>"
      ],
      "text/plain": [
       "Empty DataFrame\n",
       "Columns: [RunID, HeartRate_mean_minute_1, Elevation_mean_minute_1, Cadence_mean_minute_1, Speed_mean_minute_1, HeartRate_mean_minute_2, Elevation_mean_minute_2, Cadence_mean_minute_2, Speed_mean_minute_2, HeartRate_mean_minute_3, Elevation_mean_minute_3, Cadence_mean_minute_3, Speed_mean_minute_3, HeartRate_mean_minute_4, Elevation_mean_minute_4, Cadence_mean_minute_4, Speed_mean_minute_4, HeartRate_mean_minute_5, Elevation_mean_minute_5, Cadence_mean_minute_5, Speed_mean_minute_5]\n",
       "Index: []\n",
       "\n",
       "[0 rows x 21 columns]"
      ]
     },
     "metadata": {},
     "output_type": "display_data"
    }
   ],
   "source": [
    "display(df_statistics.head(head))\n",
    "df_statistics.to_csv(\"processed_data/train_data.csv\")"
   ]
  }
 ],
 "metadata": {
  "kernelspec": {
   "display_name": "Python 3 (ipykernel)",
   "language": "python",
   "name": "python3"
  },
  "language_info": {
   "codemirror_mode": {
    "name": "ipython",
    "version": 3
   },
   "file_extension": ".py",
   "mimetype": "text/x-python",
   "name": "python",
   "nbconvert_exporter": "python",
   "pygments_lexer": "ipython3",
   "version": "3.12.4"
  }
 },
 "nbformat": 4,
 "nbformat_minor": 5
}

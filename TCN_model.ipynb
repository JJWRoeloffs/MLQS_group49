{
 "cells": [
  {
   "cell_type": "code",
   "execution_count": 39,
   "id": "63bc6536",
   "metadata": {},
   "outputs": [],
   "source": [
    "import pandas as pd\n",
    "import matplotlib.pyplot as plt\n",
    "import numpy as np\n",
    "import tensorflow as tf\n",
    "from tensorflow import keras\n",
    "from sklearn.model_selection import train_test_split\n",
    "from sklearn.preprocessing import LabelEncoder\n",
    "from tensorflow.keras.utils import to_categorical\n",
    "\n",
    "data = pd.read_csv('processed_data/with_ranges_features.csv')\n",
    "\n",
    "# Determine the number of classes and create a global label encoder\n",
    "label_encoder = LabelEncoder()\n",
    "label_encoder.fit(data['HeartRateClass'])\n",
    "num_classes = len(label_encoder.classes_)"
   ]
  },
  {
   "cell_type": "code",
   "execution_count": 50,
   "id": "b6df4766",
   "metadata": {},
   "outputs": [
    {
     "name": "stdout",
     "output_type": "stream",
     "text": [
      "[3 3 4 ... 6 6 6]\n"
     ]
    }
   ],
   "source": [
    "def preprocess(df):\n",
    "    # Extract features and label\n",
    "    features = df[['Elevation', 'Distance', 'HeartRateQuotient', 'HeartRateRange', 'Cadence', 'Speed', 'SpeedRange', 'SpeedQuotient']].to_numpy()\n",
    "    features = features.reshape(features.shape[0], 1, features.shape[1])\n",
    "\n",
    "    label = df['HeartRateClass'].to_numpy()\n",
    "    \n",
    "    # Encode labels as integers and then convert to categorical\n",
    "    label = label_encoder.transform(label)\n",
    "    print(label)\n",
    "    #label = to_categorical(label, num_classes=num_classes)\n",
    "    \n",
    "    return train_test_split(features, label, test_size=0.2, random_state=42)\n",
    "    \n",
    "x_train, x_test, y_train, y_test = preprocess(data)"
   ]
  },
  {
   "cell_type": "code",
   "execution_count": 51,
   "id": "63306f7c",
   "metadata": {},
   "outputs": [
    {
     "name": "stdout",
     "output_type": "stream",
     "text": [
      "Model: \"sequential_10\"\n",
      "_________________________________________________________________\n",
      " Layer (type)                Output Shape              Param #   \n",
      "=================================================================\n",
      " dropout_10 (Dropout)        (None, 1, 8)              0         \n",
      "                                                                 \n",
      " tcn_10 (TCN)                (None, 90)                271350    \n",
      "                                                                 \n",
      " flatten_1 (Flatten)         (None, 90)                0         \n",
      "                                                                 \n",
      " dense_10 (Dense)            (None, 10)                910       \n",
      "                                                                 \n",
      "=================================================================\n",
      "Total params: 272,260\n",
      "Trainable params: 272,260\n",
      "Non-trainable params: 0\n",
      "_________________________________________________________________\n"
     ]
    }
   ],
   "source": [
    "from tcn import TCN, compiled_tcn\n",
    "\n",
    "model = keras.Sequential([\n",
    "    keras.layers.Input(shape=(x_train.shape[1], x_train.shape[2])),\n",
    "    keras.layers.Dropout(rate=0.2),\n",
    "    TCN(\n",
    "        nb_filters=90,\n",
    "        kernel_size=3,\n",
    "        dilations=[2**i for i in range(6)],\n",
    "    ),\n",
    "    keras.layers.Flatten(),\n",
    "    keras.layers.Dense(num_classes, activation='softmax')  # Multi-class classification\n",
    "])\n",
    "\n",
    "model.summary()\n",
    "model.compile('adam', 'sparse_categorical_crossentropy', metrics=['accuracy'])"
   ]
  },
  {
   "cell_type": "code",
   "execution_count": 52,
   "id": "d2a9a477",
   "metadata": {
    "scrolled": true
   },
   "outputs": [
    {
     "name": "stdout",
     "output_type": "stream",
     "text": [
      "(256,)\n",
      "Epoch 1/10\n",
      "5174/5174 [==============================] - 224s 43ms/step - loss: nan - accuracy: 7.4749e-05 - val_loss: nan - val_accuracy: 0.0000e+00\n",
      "Epoch 2/10\n",
      "5174/5174 [==============================] - 223s 43ms/step - loss: nan - accuracy: 2.2651e-06 - val_loss: nan - val_accuracy: 0.0000e+00\n",
      "Epoch 3/10\n",
      "5174/5174 [==============================] - 228s 44ms/step - loss: nan - accuracy: 2.2651e-06 - val_loss: nan - val_accuracy: 0.0000e+00\n",
      "Epoch 4/10\n",
      "5174/5174 [==============================] - 230s 44ms/step - loss: nan - accuracy: 2.2651e-06 - val_loss: nan - val_accuracy: 0.0000e+00\n",
      "Epoch 5/10\n",
      "5174/5174 [==============================] - 226s 44ms/step - loss: nan - accuracy: 2.2651e-06 - val_loss: nan - val_accuracy: 0.0000e+00\n",
      "Epoch 6/10\n",
      "5174/5174 [==============================] - 226s 44ms/step - loss: nan - accuracy: 2.2651e-06 - val_loss: nan - val_accuracy: 0.0000e+00\n",
      "Epoch 7/10\n",
      "5174/5174 [==============================] - 216s 42ms/step - loss: nan - accuracy: 2.2651e-06 - val_loss: nan - val_accuracy: 0.0000e+00\n",
      "Epoch 8/10\n",
      "5174/5174 [==============================] - 195s 38ms/step - loss: nan - accuracy: 2.2651e-06 - val_loss: nan - val_accuracy: 0.0000e+00\n",
      "Epoch 9/10\n",
      "5174/5174 [==============================] - 196s 38ms/step - loss: nan - accuracy: 2.2651e-06 - val_loss: nan - val_accuracy: 0.0000e+00\n",
      "Epoch 10/10\n",
      "5174/5174 [==============================] - 196s 38ms/step - loss: nan - accuracy: 2.2651e-06 - val_loss: nan - val_accuracy: 0.0000e+00\n"
     ]
    },
    {
     "data": {
      "text/plain": [
       "<keras.callbacks.History at 0x7f20fc2e34f0>"
      ]
     },
     "execution_count": 52,
     "metadata": {},
     "output_type": "execute_result"
    }
   ],
   "source": [
    "print(y_train[:256].shape)\n",
    "model.fit(x_train, y_train, validation_data=(x_test, y_test), epochs=10, batch_size=256)"
   ]
  },
  {
   "cell_type": "code",
   "execution_count": null,
   "id": "7e435f40-0675-419b-8cf7-e4fc47ef4a76",
   "metadata": {},
   "outputs": [],
   "source": []
  }
 ],
 "metadata": {
  "kernelspec": {
   "display_name": "Python 3 (ipykernel)",
   "language": "python",
   "name": "python3"
  },
  "language_info": {
   "codemirror_mode": {
    "name": "ipython",
    "version": 3
   },
   "file_extension": ".py",
   "mimetype": "text/x-python",
   "name": "python",
   "nbconvert_exporter": "python",
   "pygments_lexer": "ipython3",
   "version": "3.10.13"
  }
 },
 "nbformat": 4,
 "nbformat_minor": 5
}

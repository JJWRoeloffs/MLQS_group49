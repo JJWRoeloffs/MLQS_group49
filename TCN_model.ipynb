{
 "cells": [
  {
   "cell_type": "code",
   "execution_count": 26,
   "id": "63bc6536",
   "metadata": {},
   "outputs": [],
   "source": [
    "import pandas as pd\n",
    "import matplotlib.pyplot as plt\n",
    "import numpy as np\n",
    "import tensorflow as tf\n",
    "from tensorflow import keras\n",
    "from sklearn.model_selection import train_test_split\n",
    "from sklearn.preprocessing import LabelEncoder, MinMaxScaler\n",
    "from tensorflow.keras.utils import to_categorical\n",
    "\n",
    "data = pd.read_csv('processed_data/with_ranges_features.csv')\n",
    "\n",
    "# Determine the number of classes and create a global label encoder\n"
   ]
  },
  {
   "cell_type": "code",
   "execution_count": 27,
   "id": "b6df4766",
   "metadata": {},
   "outputs": [],
   "source": [
    "# Extract features and label\n",
    "df = data[['Elevation', 'Distance', 'HeartRateQuotient', 'HeartRateRange', 'Cadence', 'Speed', 'SpeedRange', 'SpeedQuotient', 'HeartRateClass']]\n",
    "df.dropna()\n",
    "\n",
    "scaler = MinMaxScaler()\n",
    "df = pd.DataFrame(scaler.fit_transform(df), columns=df.columns, index=df.index)\n",
    "    \n",
    "features = df[['Elevation', 'Distance', 'HeartRateQuotient', 'HeartRateRange', 'Cadence', 'Speed', 'SpeedRange', 'SpeedQuotient']].to_numpy()\n",
    "features = features.reshape(features.shape[0], 1, features.shape[1])\n",
    "\n",
    "labels = df['HeartRateClass'].to_numpy()\n",
    "label_encoder = LabelEncoder()\n",
    "labels = label_encoder.fit_transform(data['HeartRateClass'])\n",
    "\n",
    "num_classes = len(label_encoder.classes_)\n",
    "\n",
    "labels = to_categorical(labels, num_classes=num_classes)\n",
    "    \n",
    "x_train, x_test, y_train, y_test = train_test_split(features, labels, test_size=0.2, random_state=42)"
   ]
  },
  {
   "cell_type": "code",
   "execution_count": 28,
   "id": "63306f7c",
   "metadata": {},
   "outputs": [],
   "source": [
    "from tcn import TCN, compiled_tcn\n",
    "\n",
    "def build_model(middle_layer):\n",
    "    model = keras.Sequential([\n",
    "        keras.layers.Input(shape=(x_train.shape[1], x_train.shape[2])),\n",
    "        middle_layer,\n",
    "        keras.layers.Dense(num_classes, activation='softmax')\n",
    "    ])\n",
    "\n",
    "    model.summary()\n",
    "    model.compile(optimizer=keras.optimizers.Adam(learning_rate=0.001), metrics=[\"accuracy\"], loss=\"categorical_crossentropy\")\n",
    "    return model"
   ]
  },
  {
   "cell_type": "code",
   "execution_count": 29,
   "id": "0ad87daf-bd4e-4482-97ee-272559067add",
   "metadata": {},
   "outputs": [
    {
     "name": "stdout",
     "output_type": "stream",
     "text": [
      "Model: \"sequential_4\"\n",
      "_________________________________________________________________\n",
      " Layer (type)                Output Shape              Param #   \n",
      "=================================================================\n",
      " tcn_2 (TCN)                 (None, 30)                31050     \n",
      "                                                                 \n",
      " dense_4 (Dense)             (None, 10)                310       \n",
      "                                                                 \n",
      "=================================================================\n",
      "Total params: 31,360\n",
      "Trainable params: 31,360\n",
      "Non-trainable params: 0\n",
      "_________________________________________________________________\n"
     ]
    }
   ],
   "source": [
    "def get_tcn_layer():\n",
    "    return TCN(\n",
    "        nb_filters=30,\n",
    "        kernel_size=3,\n",
    "        dilations=[2**i for i in range(6)],\n",
    "    )\n",
    "tcn_model = build_model(get_tcn_layer())"
   ]
  },
  {
   "cell_type": "code",
   "execution_count": 30,
   "id": "d2a9a477",
   "metadata": {
    "scrolled": true
   },
   "outputs": [
    {
     "name": "stdout",
     "output_type": "stream",
     "text": [
      "Model: \"sequential_5\"\n",
      "_________________________________________________________________\n",
      " Layer (type)                Output Shape              Param #   \n",
      "=================================================================\n",
      " lstm_2 (LSTM)               (None, 100)               43600     \n",
      "                                                                 \n",
      " dense_5 (Dense)             (None, 10)                1010      \n",
      "                                                                 \n",
      "=================================================================\n",
      "Total params: 44,610\n",
      "Trainable params: 44,610\n",
      "Non-trainable params: 0\n",
      "_________________________________________________________________\n"
     ]
    },
    {
     "name": "stderr",
     "output_type": "stream",
     "text": [
      "2024-06-22 12:58:33.946440: I tensorflow/core/common_runtime/executor.cc:1197] [/device:CPU:0] (DEBUG INFO) Executor start aborting (this does not indicate an error and you can ignore this message): INVALID_ARGUMENT: You must feed a value for placeholder tensor 'gradients/split_2_grad/concat/split_2/split_dim' with dtype int32\n",
      "\t [[{{node gradients/split_2_grad/concat/split_2/split_dim}}]]\n",
      "2024-06-22 12:58:33.947578: I tensorflow/core/common_runtime/executor.cc:1197] [/device:CPU:0] (DEBUG INFO) Executor start aborting (this does not indicate an error and you can ignore this message): INVALID_ARGUMENT: You must feed a value for placeholder tensor 'gradients/split_grad/concat/split/split_dim' with dtype int32\n",
      "\t [[{{node gradients/split_grad/concat/split/split_dim}}]]\n",
      "2024-06-22 12:58:33.948382: I tensorflow/core/common_runtime/executor.cc:1197] [/device:CPU:0] (DEBUG INFO) Executor start aborting (this does not indicate an error and you can ignore this message): INVALID_ARGUMENT: You must feed a value for placeholder tensor 'gradients/split_1_grad/concat/split_1/split_dim' with dtype int32\n",
      "\t [[{{node gradients/split_1_grad/concat/split_1/split_dim}}]]\n"
     ]
    }
   ],
   "source": [
    "def get_lstm_layer():\n",
    "    return keras.layers.LSTM(100)\n",
    "\n",
    "lstm_model = build_model(get_lstm_layer())"
   ]
  },
  {
   "cell_type": "code",
   "execution_count": 31,
   "id": "afab3f86-0207-45b6-845e-221183ff8028",
   "metadata": {},
   "outputs": [],
   "source": [
    "def fit_model(model):\n",
    "    es_callback = keras.callbacks.EarlyStopping(monitor=\"val_loss\", min_delta=0, patience=5, verbose=1)\n",
    "    tensorboard_callback = tf.keras.callbacks.TensorBoard(log_dir=f'./logs/run', histogram_freq=1)\n",
    "    modelckpt_callback = keras.callbacks.ModelCheckpoint(\n",
    "        monitor=\"val_loss\",\n",
    "        filepath=f'model_checkpoint.weights.h5',\n",
    "        verbose=1,\n",
    "        save_weights_only=True,\n",
    "        save_best_only=True,\n",
    "    )\n",
    "\n",
    "    # Train the model\n",
    "    return model.fit(\n",
    "        x_train, y_train,\n",
    "        validation_data=(x_test, y_test),\n",
    "        epochs=3,\n",
    "        callbacks=[es_callback, tensorboard_callback, modelckpt_callback]\n",
    "    )"
   ]
  },
  {
   "cell_type": "code",
   "execution_count": 32,
   "id": "773717fb-d366-47e3-a593-e6be154fe8f1",
   "metadata": {},
   "outputs": [
    {
     "name": "stdout",
     "output_type": "stream",
     "text": [
      "Epoch 1/3\n"
     ]
    },
    {
     "name": "stderr",
     "output_type": "stream",
     "text": [
      "2024-06-22 12:58:45.206377: I tensorflow/core/common_runtime/executor.cc:1197] [/device:CPU:0] (DEBUG INFO) Executor start aborting (this does not indicate an error and you can ignore this message): INVALID_ARGUMENT: You must feed a value for placeholder tensor 'gradients/split_2_grad/concat/split_2/split_dim' with dtype int32\n",
      "\t [[{{node gradients/split_2_grad/concat/split_2/split_dim}}]]\n",
      "2024-06-22 12:58:45.207289: I tensorflow/core/common_runtime/executor.cc:1197] [/device:CPU:0] (DEBUG INFO) Executor start aborting (this does not indicate an error and you can ignore this message): INVALID_ARGUMENT: You must feed a value for placeholder tensor 'gradients/split_grad/concat/split/split_dim' with dtype int32\n",
      "\t [[{{node gradients/split_grad/concat/split/split_dim}}]]\n",
      "2024-06-22 12:58:45.208175: I tensorflow/core/common_runtime/executor.cc:1197] [/device:CPU:0] (DEBUG INFO) Executor start aborting (this does not indicate an error and you can ignore this message): INVALID_ARGUMENT: You must feed a value for placeholder tensor 'gradients/split_1_grad/concat/split_1/split_dim' with dtype int32\n",
      "\t [[{{node gradients/split_1_grad/concat/split_1/split_dim}}]]\n",
      "2024-06-22 12:58:45.598240: I tensorflow/core/common_runtime/executor.cc:1197] [/device:CPU:0] (DEBUG INFO) Executor start aborting (this does not indicate an error and you can ignore this message): INVALID_ARGUMENT: You must feed a value for placeholder tensor 'gradients/split_2_grad/concat/split_2/split_dim' with dtype int32\n",
      "\t [[{{node gradients/split_2_grad/concat/split_2/split_dim}}]]\n",
      "2024-06-22 12:58:45.599360: I tensorflow/core/common_runtime/executor.cc:1197] [/device:CPU:0] (DEBUG INFO) Executor start aborting (this does not indicate an error and you can ignore this message): INVALID_ARGUMENT: You must feed a value for placeholder tensor 'gradients/split_grad/concat/split/split_dim' with dtype int32\n",
      "\t [[{{node gradients/split_grad/concat/split/split_dim}}]]\n",
      "2024-06-22 12:58:45.600218: I tensorflow/core/common_runtime/executor.cc:1197] [/device:CPU:0] (DEBUG INFO) Executor start aborting (this does not indicate an error and you can ignore this message): INVALID_ARGUMENT: You must feed a value for placeholder tensor 'gradients/split_1_grad/concat/split_1/split_dim' with dtype int32\n",
      "\t [[{{node gradients/split_1_grad/concat/split_1/split_dim}}]]\n"
     ]
    },
    {
     "name": "stdout",
     "output_type": "stream",
     "text": [
      "41380/41389 [============================>.] - ETA: 0s - loss: nan - accuracy: 3.7760e-06"
     ]
    },
    {
     "name": "stderr",
     "output_type": "stream",
     "text": [
      "2024-06-22 12:59:43.320486: I tensorflow/core/common_runtime/executor.cc:1197] [/device:CPU:0] (DEBUG INFO) Executor start aborting (this does not indicate an error and you can ignore this message): INVALID_ARGUMENT: You must feed a value for placeholder tensor 'gradients/split_2_grad/concat/split_2/split_dim' with dtype int32\n",
      "\t [[{{node gradients/split_2_grad/concat/split_2/split_dim}}]]\n",
      "2024-06-22 12:59:43.321766: I tensorflow/core/common_runtime/executor.cc:1197] [/device:CPU:0] (DEBUG INFO) Executor start aborting (this does not indicate an error and you can ignore this message): INVALID_ARGUMENT: You must feed a value for placeholder tensor 'gradients/split_grad/concat/split/split_dim' with dtype int32\n",
      "\t [[{{node gradients/split_grad/concat/split/split_dim}}]]\n",
      "2024-06-22 12:59:43.322569: I tensorflow/core/common_runtime/executor.cc:1197] [/device:CPU:0] (DEBUG INFO) Executor start aborting (this does not indicate an error and you can ignore this message): INVALID_ARGUMENT: You must feed a value for placeholder tensor 'gradients/split_1_grad/concat/split_1/split_dim' with dtype int32\n",
      "\t [[{{node gradients/split_1_grad/concat/split_1/split_dim}}]]\n"
     ]
    },
    {
     "name": "stdout",
     "output_type": "stream",
     "text": [
      "\n",
      "Epoch 1: val_loss did not improve from inf\n",
      "41389/41389 [==============================] - 65s 2ms/step - loss: nan - accuracy: 3.7752e-06 - val_loss: nan - val_accuracy: 0.0000e+00\n",
      "Epoch 2/3\n",
      "41382/41389 [============================>.] - ETA: 0s - loss: nan - accuracy: 2.2655e-06\n",
      "Epoch 2: val_loss did not improve from inf\n",
      "41389/41389 [==============================] - 64s 2ms/step - loss: nan - accuracy: 2.2651e-06 - val_loss: nan - val_accuracy: 0.0000e+00\n",
      "Epoch 3/3\n",
      "41363/41389 [============================>.] - ETA: 0s - loss: nan - accuracy: 2.2665e-06\n",
      "Epoch 3: val_loss did not improve from inf\n",
      "41389/41389 [==============================] - 64s 2ms/step - loss: nan - accuracy: 2.2651e-06 - val_loss: nan - val_accuracy: 0.0000e+00\n"
     ]
    }
   ],
   "source": [
    "lstm_history = fit_model(lstm_model)"
   ]
  },
  {
   "cell_type": "code",
   "execution_count": 33,
   "id": "3a9cab37-47d2-414c-a0d3-351147df972a",
   "metadata": {},
   "outputs": [
    {
     "name": "stdout",
     "output_type": "stream",
     "text": [
      "Epoch 1/3\n",
      "41379/41389 [============================>.] - ETA: 0s - loss: nan - accuracy: 3.0209e-06\n",
      "Epoch 1: val_loss did not improve from inf\n",
      "41389/41389 [==============================] - 192s 5ms/step - loss: nan - accuracy: 3.0201e-06 - val_loss: nan - val_accuracy: 0.0000e+00\n",
      "Epoch 2/3\n",
      "41382/41389 [============================>.] - ETA: 0s - loss: nan - accuracy: 2.2655e-06\n",
      "Epoch 2: val_loss did not improve from inf\n",
      "41389/41389 [==============================] - 193s 5ms/step - loss: nan - accuracy: 2.2651e-06 - val_loss: nan - val_accuracy: 0.0000e+00\n",
      "Epoch 3/3\n",
      "41381/41389 [============================>.] - ETA: 0s - loss: nan - accuracy: 2.2655e-06\n",
      "Epoch 3: val_loss did not improve from inf\n",
      "41389/41389 [==============================] - 195s 5ms/step - loss: nan - accuracy: 2.2651e-06 - val_loss: nan - val_accuracy: 0.0000e+00\n"
     ]
    }
   ],
   "source": [
    "tcn_history = fit_model(tcn_model)"
   ]
  },
  {
   "cell_type": "code",
   "execution_count": null,
   "id": "5f97d007-fd1b-40a3-8af4-828e4c3e1439",
   "metadata": {},
   "outputs": [],
   "source": []
  }
 ],
 "metadata": {
  "kernelspec": {
   "display_name": "Python 3 (ipykernel)",
   "language": "python",
   "name": "python3"
  },
  "language_info": {
   "codemirror_mode": {
    "name": "ipython",
    "version": 3
   },
   "file_extension": ".py",
   "mimetype": "text/x-python",
   "name": "python",
   "nbconvert_exporter": "python",
   "pygments_lexer": "ipython3",
   "version": "3.10.13"
  }
 },
 "nbformat": 4,
 "nbformat_minor": 5
}

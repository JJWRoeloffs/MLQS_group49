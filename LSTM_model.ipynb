{
 "cells": [
  {
   "cell_type": "markdown",
   "metadata": {},
   "source": [
    "# LSTM heartrateclass prediction\n",
    "\n",
    "Inspiration taken from: https://github.com/rikluost/athlete_hr_predict"
   ]
  },
  {
   "cell_type": "code",
   "execution_count": null,
   "metadata": {},
   "outputs": [],
   "source": [
    "# load libraries\n",
    "import os, glob \n",
    "import pandas as pd\n",
    "import matplotlib.pyplot as plt\n",
    "import numpy as np\n",
    "import tensorflow as tf\n",
    "from tensorflow import keras\n",
    "from sklearn.model_selection import train_test_split\n",
    "from sklearn.preprocessing import LabelEncoder\n",
    "from tensorflow.keras.utils import to_categorical\n",
    "\n",
    "# location of the fit files\n",
    "fit_path = \"../fit_file_csv\"\n",
    "fit_test_path = \"../fit_file_test_csv\"\n",
    "graph_path = \"../graphs\"\n",
    "os.chdir(fit_path)\n"
   ]
  },
  {
   "cell_type": "code",
   "execution_count": null,
   "metadata": {},
   "outputs": [],
   "source": [
    "# add calculated altitude difference column, and 5sec moving average column. Remove geographical coordinates for privacy.\n",
    "fit_files = glob.glob(\"*.csv\")\n",
    "for file in fit_files:\n",
    "    df = pd.read_csv(fit_path+'/'+file, index_col='timestamp')\n",
    "    df['alt_difference'] = df['enhanced_altitude'] - df['enhanced_altitude'].shift(1)\n",
    "    df['rolling_ave_alt'] = df['alt_difference'].rolling(window=5).mean()\n",
    "    df = df.bfill()\n",
    "    df = df.drop(['position_lat','position_long'], axis=1, errors='ignore')\n",
    "    df.to_csv(fit_path+'/'+file)\n"
   ]
  },
  {
   "cell_type": "code",
   "execution_count": null,
   "metadata": {},
   "outputs": [],
   "source": [
    "# Load the entire CSV file\n",
    "data = pd.read_csv('../with_ranges_features.csv')\n",
    "\n",
    "# Determine the number of classes and create a global label encoder\n",
    "label_encoder = LabelEncoder()\n",
    "label_encoder.fit(data['HeartRateClass'])\n",
    "num_classes = len(label_encoder.classes_)\n",
    "\n",
    "# Group by 'RunID'\n",
    "grouped = data.groupby('RunID')\n",
    "\n",
    "def preprocess(df):\n",
    "    # Extract features and label\n",
    "    features = df[['Latitude', 'Longitude', 'Elevation', 'Distance', 'HeartRate', 'Cadence', 'Speed']]\n",
    "    label = df['HeartRateClass']\n",
    "    \n",
    "    # Encode labels as integers and then convert to categorical\n",
    "    label = label_encoder.transform(label)\n",
    "    label = to_categorical(label, num_classes=num_classes)\n",
    "    \n",
    "    return features, label\n",
    "\n",
    "def split_data(df):\n",
    "    features, label = preprocess(df)\n",
    "    # Split into training and validation sets\n",
    "    x_train, x_val, y_train, y_val = train_test_split(features, label, test_size=0.2, random_state=42)\n",
    "    return x_train, x_val, y_train, y_val"
   ]
  },
  {
   "cell_type": "code",
   "execution_count": null,
   "metadata": {},
   "outputs": [],
   "source": [
    "def build_model(num_classes):\n",
    "    model = keras.Sequential([\n",
    "        keras.layers.Input(shape=(7,)),  # 7 features\n",
    "        keras.layers.Dense(64, activation='relu'),\n",
    "        keras.layers.Dense(32, activation='relu'),\n",
    "        keras.layers.Dense(num_classes, activation='softmax')  # Multi-class classification\n",
    "    ])\n",
    "    return model"
   ]
  },
  {
   "cell_type": "code",
   "execution_count": null,
   "metadata": {},
   "outputs": [],
   "source": [
    "# Iterate over each group\n",
    "for run_id, group in grouped:\n",
    "    print(f\"Processing RunID: {run_id}\")\n",
    "    \n",
    "    df = group.copy()\n",
    "\n",
    "    # Split the data into training and validation sets\n",
    "    x_train, x_val, y_train, y_val = split_data(df)\n",
    "\n",
    "    # Define callbacks\n",
    "    es_callback = keras.callbacks.EarlyStopping(monitor=\"val_loss\", min_delta=0, patience=5, verbose=1)\n",
    "    tensorboard_callback = tf.keras.callbacks.TensorBoard(log_dir=f'./logs/run_{run_id}', histogram_freq=1)\n",
    "    modelckpt_callback = keras.callbacks.ModelCheckpoint(\n",
    "        monitor=\"val_loss\",\n",
    "        filepath=f'model_checkpoint_{run_id}.weights.h5',\n",
    "        verbose=1,\n",
    "        save_weights_only=True,\n",
    "        save_best_only=True,\n",
    "    )\n",
    "\n",
    "    # Build and compile the model\n",
    "    model = build_model(num_classes)\n",
    "    model.compile(optimizer=keras.optimizers.Adam(learning_rate=0.001), metrics=[\"accuracy\"], loss=\"categorical_crossentropy\")\n",
    "\n",
    "    # Train the model\n",
    "    model.fit(\n",
    "        x_train, y_train,\n",
    "        validation_data=(x_val, y_val),\n",
    "        epochs=50,\n",
    "        callbacks=[es_callback, tensorboard_callback, modelckpt_callback]\n",
    "    )"
   ]
  }
 ],
 "metadata": {
  "interpreter": {
   "hash": "b77292dc63b48aca88a1593f58a471620914a6081d352eacb6540144f7e5fab5"
  },
  "kernelspec": {
   "display_name": "Python 3 (ipykernel)",
   "language": "python",
   "name": "python3"
  },
  "language_info": {
   "codemirror_mode": {
    "name": "ipython",
    "version": 3
   },
   "file_extension": ".py",
   "mimetype": "text/x-python",
   "name": "python",
   "nbconvert_exporter": "python",
   "pygments_lexer": "ipython3",
   "version": "3.9.16"
  }
 },
 "nbformat": 4,
 "nbformat_minor": 2
}
